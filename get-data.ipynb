{
 "cells": [
  {
   "cell_type": "code",
   "execution_count": 1,
   "metadata": {},
   "outputs": [],
   "source": [
    "import pandas as pd\n",
    "import numpy as np\n",
    "import time\n",
    "\n",
    "import json\n",
    "import requests"
   ]
  },
  {
   "cell_type": "code",
   "execution_count": 2,
   "metadata": {},
   "outputs": [],
   "source": [
    "def api_url(params):\n",
    "    '''\n",
    "    Helper to create request string\n",
    "    '''\n",
    "    API_ENDPOINT = 'https://comtrade.un.org/api/get?'\n",
    "    \n",
    "    return API_ENDPOINT + '&'.join(\n",
    "        [ '{k}={v}'.format(k=k, v=v) for k, v in params.items()])"
   ]
  },
  {
   "cell_type": "code",
   "execution_count": 3,
   "metadata": {},
   "outputs": [],
   "source": [
    "params_trade_total = {\n",
    "    'max': 1000,\n",
    "    'type': 'C',\n",
    "    'freq': 'A',\n",
    "    'px': 'HS',\n",
    "    'ps': 2020,\n",
    "    'r': 643,    # Russia's code\n",
    "    'p': 'all',\n",
    "    'rg': 'all',\n",
    "    'cc': 'TOTAL',\n",
    "    'fmt': 'csv'\n",
    "}"
   ]
  },
  {
   "cell_type": "markdown",
   "metadata": {},
   "source": [
    "### RUSSIAN IMPORT/EXPORT TRADE VALUE PER PARTNER: 2000 - 2020"
   ]
  },
  {
   "cell_type": "code",
   "execution_count": null,
   "metadata": {},
   "outputs": [],
   "source": [
    "params_trade_total['fmt'] = 'csv'\n",
    "\n",
    "for year in range(2000, 2021):\n",
    "    params_trade_total['ps'] = year\n",
    "    \n",
    "    data = pd.read_csv(\n",
    "        api_url(params_trade_total)\n",
    "    )\n",
    "    print('Year:', year, 'records:', len(data))\n",
    "    \n",
    "    data.to_csv(\n",
    "        'data/total-trade-value-{year}.csv'.format(year=year),\n",
    "        index=False\n",
    "    )\n",
    "    time.sleep(30)"
   ]
  },
  {
   "cell_type": "markdown",
   "metadata": {},
   "source": [
    "### !TODO: IMPORT/EXPORT PRODUCTS FROM TOP 10 PARTNERS"
   ]
  },
  {
   "cell_type": "code",
   "execution_count": 2,
   "metadata": {},
   "outputs": [],
   "source": [
    "def api_url2(params):\n",
    "    '''\n",
    "    Helper to create request string\n",
    "    '''\n",
    "    API_ENDPOINT = 'https://comtrade.un.org/api/get?'\n",
    "    \n",
    "    url = []\n",
    "    for k, v in params.items():\n",
    "        if isinstance(v, list):\n",
    "           url.append(\n",
    "               '{k}={v}'.format(k=k, v='%2C'.join(str(vi) for vi in v))\n",
    "           )\n",
    "        else:\n",
    "            url.append('{k}={v}'.format(k=k, v=v))\n",
    "    \n",
    "    return API_ENDPOINT + '&'.join(url)"
   ]
  },
  {
   "cell_type": "code",
   "execution_count": 3,
   "metadata": {},
   "outputs": [],
   "source": [
    "params_products = {\n",
    "    'max': 5000,\n",
    "    'type': 'C',\n",
    "    'freq': 'A',\n",
    "    'px': 'HS',\n",
    "    'ps': 2020,   # year\n",
    "    'r': 643,    # Russia's code\n",
    "    'p': [276, 381, 112, 156, 804],   # Partner code separated by comma , 381, 112, 156, 804\n",
    "    'rg': [1, 2],    # 1 - Import, 2 - Export\n",
    "    'cc': 'AG2',\n",
    "    'fmt': 'csv'\n",
    "}"
   ]
  },
  {
   "cell_type": "markdown",
   "metadata": {},
   "source": [
    "#### GET PARTNERS CODES"
   ]
  },
  {
   "cell_type": "code",
   "execution_count": 9,
   "metadata": {},
   "outputs": [],
   "source": [
    "cols = [\n",
    "    'Year',\n",
    "    'Trade Flow',\n",
    "    'Reporter',\n",
    "    'Reporter Code',\n",
    "    'Reporter ISO',\n",
    "    'Partner',\n",
    "    'Partner Code',\n",
    "    'Partner ISO',\n",
    "    'Trade Value (US$)',\n",
    "    'Commodity',\n",
    "    'Commodity Code'\n",
    "]\n",
    "\n",
    "data = pd.DataFrame([])\n",
    "\n",
    "for year in range(2000, 2021):\n",
    "    df = pd.read_csv(\n",
    "        'data/total-trade-value-{year}.csv'.format(year = year),\n",
    "        usecols = cols\n",
    "    )\n",
    "    \n",
    "    data = pd.concat([data, df])\n",
    "    \n",
    "    \n",
    "subcountries = ['Algeria', 'Argentina', 'Australia', 'Austria',\n",
    "       'Azerbaijan', 'Belarus', 'Belgium', 'Br. Virgin Isds', 'Brazil',\n",
    "       'Bulgaria', 'Canada', 'China', 'China, Hong Kong SAR', 'Cuba',\n",
    "       'Cyprus', 'Czechia', 'Denmark', 'Ecuador', 'Egypt', 'Estonia',\n",
    "       'Finland', 'France', 'Germany', 'Gibraltar', 'Greece', 'Hungary',\n",
    "       'India', 'Indonesia', 'Iran', 'Ireland', 'Israel', 'Italy',\n",
    "       'Japan', 'Kazakhstan', 'Latvia', 'Lithuania', 'Malaysia', 'Malta',\n",
    "       'Netherlands', 'Norway', 'Other Asia, nes',\n",
    "       'Poland', 'Rep. of Korea', 'Rep. of Moldova', 'Romania', 'Serbia',\n",
    "       'Singapore', 'Slovakia', 'Slovenia', 'Spain', 'Sweden',\n",
    "       'Switzerland', 'Tajikistan', 'Thailand', 'Turkey', 'Turkmenistan',\n",
    "       'USA', 'Ukraine', 'United Arab Emirates', 'United Kingdom',\n",
    "       'Uzbekistan', 'Viet Nam']\n",
    "\n",
    "part_codes = np.unique(data.loc[\n",
    "    data.Partner.isin(subcountries),\n",
    "    'Partner Code'\n",
    "])"
   ]
  },
  {
   "cell_type": "code",
   "execution_count": 10,
   "metadata": {},
   "outputs": [
    {
     "data": {
      "text/plain": [
       "62"
      ]
     },
     "execution_count": 10,
     "metadata": {},
     "output_type": "execute_result"
    }
   ],
   "source": [
    "len(part_codes)"
   ]
  },
  {
   "cell_type": "code",
   "execution_count": 11,
   "metadata": {},
   "outputs": [
    {
     "data": {
      "text/plain": [
       "62"
      ]
     },
     "execution_count": 11,
     "metadata": {},
     "output_type": "execute_result"
    }
   ],
   "source": [
    "len(subcountries)"
   ]
  },
  {
   "cell_type": "markdown",
   "metadata": {},
   "source": [
    "#### DOWNLOAD DATA"
   ]
  },
  {
   "cell_type": "code",
   "execution_count": 21,
   "metadata": {},
   "outputs": [],
   "source": [
    "part_codes = list(part_codes)\n",
    "\n",
    "partners_chunks = []\n",
    "for i in range(0, len(part_codes), 5):\n",
    "    partners_chunks.append(part_codes[i:i+5])\n",
    "    \n",
    "years_chunks = []\n",
    "years = list(range(2000, 2021))\n",
    "for i in range(0, len(years), 5):\n",
    "    years_chunks.append(years[i:i+5])"
   ]
  },
  {
   "cell_type": "code",
   "execution_count": null,
   "metadata": {},
   "outputs": [],
   "source": [
    "for p in partners_chunks:\n",
    "    for ps in years_chunks:\n",
    "        \n",
    "        params_products['p'] = p\n",
    "        params_products['ps'] = ps\n",
    "        \n",
    "        data_goods = pd.read_csv(\n",
    "            api_url2(params_products)\n",
    "        )\n",
    "        \n",
    "        print('Years:', ps, 'partners:', p, 'records:', len(data_goods))\n",
    "        \n",
    "        data_goods.to_csv(\n",
    "            'data/goods_{partners}_{years}.csv'.format(\n",
    "                partners = '-'.join( str(_) for _ in p),\n",
    "                years = '-'.join( str(_) for _ in ps)\n",
    "            ),\n",
    "            index=False\n",
    "        )\n",
    "        \n",
    "        time.sleep(30)"
   ]
  },
  {
   "cell_type": "markdown",
   "metadata": {},
   "source": [
    "Years: [2010, 2011, 2012, 2013, 2014] partners: [842, 860] records: 1  \n",
    "Years: [2005, 2006, 2007, 2008, 2009] partners: [458, 470, 490, 498, 528] records: 1  \n",
    "Years: [2010, 2011, 2012, 2013, 2014] partners: [458, 470, 490, 498, 528] records: 1  \n",
    "Years: [2005, 2006, 2007, 2008, 2009] partners: [124, 156, 192, 196, 203] records: 1  "
   ]
  },
  {
   "cell_type": "markdown",
   "metadata": {},
   "source": [
    "#### RELOAD EMPTY DATA"
   ]
  },
  {
   "cell_type": "code",
   "execution_count": 27,
   "metadata": {},
   "outputs": [],
   "source": [
    "def load_goods(partners, years, fmt = 'json', save = False):\n",
    "    params_products = {\n",
    "        'max': 5000,\n",
    "        'type': 'C',\n",
    "        'freq': 'A',\n",
    "        'px': 'HS',\n",
    "        'ps': years,   # year\n",
    "        'r': 643,    # Russia's code\n",
    "        'p': partners,   # Partner code separated by comma\n",
    "        'rg': [1, 2],    # 1 - Import, 2 - Export\n",
    "        'cc': 'AG2',\n",
    "        'fmt': fmt\n",
    "    }\n",
    "    \n",
    "    # Map JSON headings to CSV headings (rest should be added for consistency)\n",
    "    json_csv_cols = {\n",
    "        'yr': 'Year',\n",
    "        'rgDesc': 'Trade Flow',\n",
    "        'rtTitle': 'Reporter',\n",
    "        'rtCode': 'Reporter Code',\n",
    "        'rt3ISO': 'Reporter ISO',\n",
    "        'ptTitle': 'Partner',\n",
    "        'ptCode': 'Partner Code',\n",
    "        'pt3ISO': 'Partner ISO',\n",
    "        'TradeValue': 'Trade Value (US$)',\n",
    "        'cmdDescE': 'Commodity',\n",
    "        'cmdCode': 'Commodity Code'\n",
    "    }\n",
    "    \n",
    "    req_url = api_url2(params_products)\n",
    "    \n",
    "    if fmt == 'csv':\n",
    "        data_goods = pd.read_csv(req_url)\n",
    "    else:\n",
    "        resp = requests.get(req_url)\n",
    "        resp_data = json.loads(resp.text)\n",
    "        data_goods = pd.DataFrame(resp_data['dataset'])\n",
    "        data_goods = data_goods.rename(columns = json_csv_cols)\n",
    "    \n",
    "    print(req_url)\n",
    "    print('Years:', years, 'partners:', partners, 'records:', len(data_goods))\n",
    "    \n",
    "    if save:\n",
    "        data_goods.to_csv(\n",
    "            'data/goods_{partners}_{years}.csv'.format(\n",
    "                partners = '-'.join( str(_) for _ in partners),\n",
    "                years = '-'.join( str(_) for _ in years)\n",
    "            ),\n",
    "            index=False\n",
    "        )\n",
    "    \n",
    "    return data_goods"
   ]
  },
  {
   "cell_type": "code",
   "execution_count": 40,
   "metadata": {},
   "outputs": [],
   "source": [
    "empty_reqs = [\n",
    "    #{'years': [2010, 2011, 2012, 2013, 2014], 'partners': [842, 860]},\n",
    "    #{'years': [2005, 2006, 2007, 2008, 2009], 'partners': [458, 470, 490, 498, 528]},\n",
    "    #{'years': [2010, 2011, 2012, 2013, 2014], 'partners': [458, 470, 490, 498, 528]},\n",
    "    #{'years': [2005, 2006, 2007, 2008, 2009], 'partners': [124, 156, 192, 196, 203]},\n",
    "    {'years': [2020], 'partners': [842, 860]},\n",
    "]"
   ]
  },
  {
   "cell_type": "code",
   "execution_count": 41,
   "metadata": {},
   "outputs": [
    {
     "name": "stdout",
     "output_type": "stream",
     "text": [
      "https://comtrade.un.org/api/get?max=5000&type=C&freq=A&px=HS&ps=2020&r=643&p=842%2C860&rg=1%2C2&cc=AG2&fmt=json\n",
      "Years: [2020] partners: [842, 860] records: 349\n"
     ]
    }
   ],
   "source": [
    "for req in empty_reqs:\n",
    "    \n",
    "    df = load_goods(\n",
    "        req['partners'],\n",
    "        req['years'],\n",
    "        fmt = 'json',\n",
    "        save = True\n",
    "    )\n",
    "    \n",
    "    time.sleep(30)"
   ]
  },
  {
   "cell_type": "markdown",
   "metadata": {},
   "source": [
    "#### MERGE GOODS DATA IN SINGLE FILE"
   ]
  },
  {
   "cell_type": "code",
   "execution_count": 30,
   "metadata": {},
   "outputs": [],
   "source": [
    "import glob"
   ]
  },
  {
   "cell_type": "code",
   "execution_count": 42,
   "metadata": {},
   "outputs": [
    {
     "name": "stdout",
     "output_type": "stream",
     "text": [
      "data/goods_208-218-233-246-251_2015-2016-2017-2018-2019.csv 3582\n",
      "data/goods_579-616-642-688-699_2000-2001-2002-2003-2004.csv 2901\n",
      "data/goods_276-292-300-344-348_2000-2001-2002-2003-2004.csv 3035\n",
      "data/goods_56-76-92-100-112_2000-2001-2002-2003-2004.csv 2271\n",
      "data/goods_360-364-372-376-381_2005-2006-2007-2008-2009.csv 3185\n",
      "data/goods_458-470-490-498-528_2020.csv 671\n",
      "data/goods_842-860_2005-2006-2007-2008-2009.csv 1704\n",
      "data/goods_458-470-490-498-528_2000-2001-2002-2003-2004.csv 3019\n",
      "data/goods_792-795-804-818-826_2015-2016-2017-2018-2019.csv 3862\n",
      "data/goods_208-218-233-246-251_2005-2006-2007-2008-2009.csv 3489\n",
      "data/goods_124-156-192-196-203_2000-2001-2002-2003-2004.csv 3483\n",
      "data/goods_208-218-233-246-251_2000-2001-2002-2003-2004.csv 3541\n",
      "data/goods_12-31-32-36-40_2010-2011-2012-2013-2014.csv 2889\n",
      "data/goods_752-757-762-764-784_2020.csv 721\n",
      "data/goods_752-757-762-764-784_2000-2001-2002-2003-2004.csv 3264\n",
      "data/goods_458-470-490-498-528_2010-2011-2012-2013-2014.csv 3105\n",
      "data/goods_12-31-32-36-40_2020.csv 631\n"
     ]
    },
    {
     "name": "stderr",
     "output_type": "stream",
     "text": [
      "/home/d2ski/miniconda3/envs/vizlab/lib/python3.7/site-packages/ipykernel_launcher.py:21: FutureWarning: Sorting because non-concatenation axis is not aligned. A future version\n",
      "of pandas will change to not sort by default.\n",
      "\n",
      "To accept the future behavior, pass 'sort=False'.\n",
      "\n",
      "To retain the current behavior and silence the warning, pass 'sort=True'.\n",
      "\n"
     ]
    },
    {
     "name": "stdout",
     "output_type": "stream",
     "text": [
      "data/goods_360-364-372-376-381_2015-2016-2017-2018-2019.csv 3575\n",
      "data/goods_752-757-762-764-784_2015-2016-2017-2018-2019.csv 3559\n",
      "data/goods_56-76-92-100-112_2010-2011-2012-2013-2014.csv 2941\n",
      "data/goods_12-31-32-36-40_2000-2001-2002-2003-2004.csv 2721\n",
      "data/goods_842-860_2015-2016-2017-2018-2019.csv 1751\n",
      "data/goods_579-616-642-688-699_2010-2011-2012-2013-2014.csv 3754\n",
      "data/goods_792-795-804-818-826_2005-2006-2007-2008-2009.csv 3660\n",
      "data/goods_124-156-192-196-203_2005-2006-2007-2008-2009.csv 3304\n",
      "data/goods_702-703-704-705-724_2020.csv 734\n",
      "data/goods_276-292-300-344-348_2005-2006-2007-2008-2009.csv 2996\n",
      "data/goods_702-703-704-705-724_2005-2006-2007-2008-2009.csv 3191\n",
      "data/goods_56-76-92-100-112_2015-2016-2017-2018-2019.csv 3354\n",
      "data/goods_702-703-704-705-724_2010-2011-2012-2013-2014.csv 3445\n",
      "data/goods_702-703-704-705-724_2015-2016-2017-2018-2019.csv 3674\n",
      "data/goods_458-470-490-498-528_2005-2006-2007-2008-2009.csv 2974\n",
      "data/goods_276-292-300-344-348_2020.csv 642\n",
      "data/goods_792-795-804-818-826_2010-2011-2012-2013-2014.csv 3764\n",
      "data/goods_392-398-410-428-440_2000-2001-2002-2003-2004.csv 4250\n",
      "data/goods_124-156-192-196-203_2010-2011-2012-2013-2014.csv 3387\n",
      "data/goods_842-860_2000-2001-2002-2003-2004.csv 1759\n",
      "data/goods_579-616-642-688-699_2005-2006-2007-2008-2009.csv 3447\n",
      "data/goods_392-398-410-428-440_2010-2011-2012-2013-2014.csv 3938\n",
      "data/goods_579-616-642-688-699_2015-2016-2017-2018-2019.csv 3957\n",
      "data/goods_702-703-704-705-724_2000-2001-2002-2003-2004.csv 3189\n",
      "data/goods_842-860_2020.csv 349\n",
      "data/goods_12-31-32-36-40_2005-2006-2007-2008-2009.csv 2800\n",
      "data/goods_124-156-192-196-203_2015-2016-2017-2018-2019.csv 3531\n",
      "data/goods_792-795-804-818-826_2000-2001-2002-2003-2004.csv 3615\n",
      "data/goods_276-292-300-344-348_2015-2016-2017-2018-2019.csv 3165\n",
      "data/goods_458-470-490-498-528_2015-2016-2017-2018-2019.csv 3341\n",
      "data/goods_842-860_2010-2011-2012-2013-2014.csv 1709\n",
      "data/goods_208-218-233-246-251_2020.csv 722\n",
      "data/goods_208-218-233-246-251_2010-2011-2012-2013-2014.csv 3494\n",
      "data/goods_752-757-762-764-784_2010-2011-2012-2013-2014.csv 3507\n",
      "data/goods_124-156-192-196-203_2020.csv 617\n",
      "data/goods_360-364-372-376-381_2000-2001-2002-2003-2004.csv 3237\n",
      "data/goods_579-616-642-688-699_2020.csv 805\n",
      "data/goods_12-31-32-36-40_2015-2016-2017-2018-2019.csv 3068\n",
      "data/goods_392-398-410-428-440_2015-2016-2017-2018-2019.csv 4355\n",
      "data/goods_56-76-92-100-112_2020.csv 653\n",
      "data/goods_360-364-372-376-381_2010-2011-2012-2013-2014.csv 3317\n",
      "data/goods_392-398-410-428-440_2005-2006-2007-2008-2009.csv 4212\n",
      "data/goods_360-364-372-376-381_2020.csv 591\n",
      "data/goods_392-398-410-428-440_2020.csv 868\n",
      "data/goods_792-795-804-818-826_2020.csv 774\n",
      "data/goods_752-757-762-764-784_2005-2006-2007-2008-2009.csv 3348\n",
      "data/goods_276-292-300-344-348_2010-2011-2012-2013-2014.csv 3032\n",
      "data/goods_56-76-92-100-112_2005-2006-2007-2008-2009.csv 2338\n"
     ]
    }
   ],
   "source": [
    "cols = [\n",
    "    'Year',\n",
    "    'Trade Flow',\n",
    "    'Reporter',\n",
    "    'Reporter Code',\n",
    "    'Reporter ISO',\n",
    "    'Partner',\n",
    "    'Partner Code',\n",
    "    'Partner ISO',\n",
    "    'Trade Value (US$)',\n",
    "    'Commodity',\n",
    "    'Commodity Code'\n",
    "]\n",
    "\n",
    "goods_data = pd.DataFrame([])\n",
    "\n",
    "for f in glob.glob('data/goods_*.csv'):\n",
    "    df = pd.read_csv(f, usecols = cols)\n",
    "    print(f, len(df))\n",
    "    \n",
    "    goods_data = pd.concat([goods_data, df])"
   ]
  },
  {
   "cell_type": "code",
   "execution_count": 43,
   "metadata": {},
   "outputs": [
    {
     "data": {
      "text/plain": [
       "176767"
      ]
     },
     "execution_count": 43,
     "metadata": {},
     "output_type": "execute_result"
    }
   ],
   "source": [
    "len(goods_data)"
   ]
  },
  {
   "cell_type": "code",
   "execution_count": 46,
   "metadata": {},
   "outputs": [
    {
     "data": {
      "text/plain": [
       "Commodity               0\n",
       "Commodity Code          0\n",
       "Partner                 0\n",
       "Partner Code            0\n",
       "Partner ISO          2771\n",
       "Reporter                0\n",
       "Reporter Code           0\n",
       "Reporter ISO            0\n",
       "Trade Flow              0\n",
       "Trade Value (US$)       0\n",
       "Year                    0\n",
       "dtype: int64"
      ]
     },
     "execution_count": 46,
     "metadata": {},
     "output_type": "execute_result"
    }
   ],
   "source": [
    "goods_data.isnull().sum()"
   ]
  },
  {
   "cell_type": "code",
   "execution_count": 49,
   "metadata": {},
   "outputs": [
    {
     "data": {
      "text/html": [
       "<div>\n",
       "<style scoped>\n",
       "    .dataframe tbody tr th:only-of-type {\n",
       "        vertical-align: middle;\n",
       "    }\n",
       "\n",
       "    .dataframe tbody tr th {\n",
       "        vertical-align: top;\n",
       "    }\n",
       "\n",
       "    .dataframe thead th {\n",
       "        text-align: right;\n",
       "    }\n",
       "</style>\n",
       "<table border=\"1\" class=\"dataframe\">\n",
       "  <thead>\n",
       "    <tr style=\"text-align: right;\">\n",
       "      <th></th>\n",
       "      <th>Commodity</th>\n",
       "      <th>Commodity Code</th>\n",
       "      <th>Partner</th>\n",
       "      <th>Partner Code</th>\n",
       "      <th>Partner ISO</th>\n",
       "      <th>Reporter</th>\n",
       "      <th>Reporter Code</th>\n",
       "      <th>Reporter ISO</th>\n",
       "      <th>Trade Flow</th>\n",
       "      <th>Trade Value (US$)</th>\n",
       "      <th>Year</th>\n",
       "    </tr>\n",
       "  </thead>\n",
       "  <tbody>\n",
       "    <tr>\n",
       "      <th>6</th>\n",
       "      <td>Meat and edible meat offal</td>\n",
       "      <td>2</td>\n",
       "      <td>Other Asia, nes</td>\n",
       "      <td>490</td>\n",
       "      <td>NaN</td>\n",
       "      <td>Russian Federation</td>\n",
       "      <td>643</td>\n",
       "      <td>RUS</td>\n",
       "      <td>Export</td>\n",
       "      <td>32106</td>\n",
       "      <td>2020</td>\n",
       "    </tr>\n",
       "    <tr>\n",
       "      <th>11</th>\n",
       "      <td>Fish and crustaceans, molluscs and other aquat...</td>\n",
       "      <td>3</td>\n",
       "      <td>Other Asia, nes</td>\n",
       "      <td>490</td>\n",
       "      <td>NaN</td>\n",
       "      <td>Russian Federation</td>\n",
       "      <td>643</td>\n",
       "      <td>RUS</td>\n",
       "      <td>Import</td>\n",
       "      <td>1537099</td>\n",
       "      <td>2020</td>\n",
       "    </tr>\n",
       "    <tr>\n",
       "      <th>16</th>\n",
       "      <td>Dairy produce; birds' eggs; natural honey; edi...</td>\n",
       "      <td>4</td>\n",
       "      <td>Other Asia, nes</td>\n",
       "      <td>490</td>\n",
       "      <td>NaN</td>\n",
       "      <td>Russian Federation</td>\n",
       "      <td>643</td>\n",
       "      <td>RUS</td>\n",
       "      <td>Export</td>\n",
       "      <td>12761</td>\n",
       "      <td>2020</td>\n",
       "    </tr>\n",
       "    <tr>\n",
       "      <th>21</th>\n",
       "      <td>Animal originated products; not elsewhere spec...</td>\n",
       "      <td>5</td>\n",
       "      <td>Other Asia, nes</td>\n",
       "      <td>490</td>\n",
       "      <td>NaN</td>\n",
       "      <td>Russian Federation</td>\n",
       "      <td>643</td>\n",
       "      <td>RUS</td>\n",
       "      <td>Export</td>\n",
       "      <td>4625583</td>\n",
       "      <td>2020</td>\n",
       "    </tr>\n",
       "    <tr>\n",
       "      <th>27</th>\n",
       "      <td>Trees and other plants, live; bulbs, roots and...</td>\n",
       "      <td>6</td>\n",
       "      <td>Other Asia, nes</td>\n",
       "      <td>490</td>\n",
       "      <td>NaN</td>\n",
       "      <td>Russian Federation</td>\n",
       "      <td>643</td>\n",
       "      <td>RUS</td>\n",
       "      <td>Import</td>\n",
       "      <td>244164</td>\n",
       "      <td>2020</td>\n",
       "    </tr>\n",
       "  </tbody>\n",
       "</table>\n",
       "</div>"
      ],
      "text/plain": [
       "                                            Commodity  Commodity Code  \\\n",
       "6                          Meat and edible meat offal               2   \n",
       "11  Fish and crustaceans, molluscs and other aquat...               3   \n",
       "16  Dairy produce; birds' eggs; natural honey; edi...               4   \n",
       "21  Animal originated products; not elsewhere spec...               5   \n",
       "27  Trees and other plants, live; bulbs, roots and...               6   \n",
       "\n",
       "            Partner  Partner Code Partner ISO            Reporter  \\\n",
       "6   Other Asia, nes           490         NaN  Russian Federation   \n",
       "11  Other Asia, nes           490         NaN  Russian Federation   \n",
       "16  Other Asia, nes           490         NaN  Russian Federation   \n",
       "21  Other Asia, nes           490         NaN  Russian Federation   \n",
       "27  Other Asia, nes           490         NaN  Russian Federation   \n",
       "\n",
       "    Reporter Code Reporter ISO Trade Flow  Trade Value (US$)  Year  \n",
       "6             643          RUS     Export              32106  2020  \n",
       "11            643          RUS     Import            1537099  2020  \n",
       "16            643          RUS     Export              12761  2020  \n",
       "21            643          RUS     Export            4625583  2020  \n",
       "27            643          RUS     Import             244164  2020  "
      ]
     },
     "execution_count": 49,
     "metadata": {},
     "output_type": "execute_result"
    }
   ],
   "source": [
    "goods_data.loc[goods_data['Partner ISO'].isnull()].head()"
   ]
  },
  {
   "cell_type": "code",
   "execution_count": 48,
   "metadata": {},
   "outputs": [],
   "source": [
    "#goods_data.to_csv('data/goods-value-2000-2020.csv', index=False)"
   ]
  },
  {
   "cell_type": "code",
   "execution_count": null,
   "metadata": {},
   "outputs": [],
   "source": []
  }
 ],
 "metadata": {
  "kernelspec": {
   "display_name": "Python 3",
   "language": "python",
   "name": "python3"
  },
  "language_info": {
   "codemirror_mode": {
    "name": "ipython",
    "version": 3
   },
   "file_extension": ".py",
   "mimetype": "text/x-python",
   "name": "python",
   "nbconvert_exporter": "python",
   "pygments_lexer": "ipython3",
   "version": "3.7.3"
  }
 },
 "nbformat": 4,
 "nbformat_minor": 4
}
